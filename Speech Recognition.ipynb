{
 "cells": [
  {
   "cell_type": "code",
   "execution_count": 10,
   "id": "3563fbec-1540-4de2-96ff-be3f47191368",
   "metadata": {},
   "outputs": [
    {
     "name": "stdout",
     "output_type": "stream",
     "text": [
      "Say something...\n",
      "You said: hello hello how are you\n"
     ]
    }
   ],
   "source": [
    "import speech_recognition as sr\n",
    "\n",
    "recognizer = sr.Recognizer()\n",
    "\n",
    "with sr.Microphone() as source:\n",
    "    print(\"Say something...\")\n",
    "    audio = recognizer.listen(source,timeout=5, phrase_time_limit=3)\n",
    "    text = recognizer.recognize_google(audio)\n",
    "    print(\"You said:\", text)"
   ]
  },
  {
   "cell_type": "code",
   "execution_count": 7,
   "id": "b09cebd2-aa74-46e1-84a1-98575104cf63",
   "metadata": {},
   "outputs": [
    {
     "name": "stdout",
     "output_type": "stream",
     "text": [
      "Requirement already satisfied: gtts in c:\\users\\rroha\\anaconda3\\envs\\hugging_face\\lib\\site-packages (2.5.4)\n",
      "Requirement already satisfied: requests<3,>=2.27 in c:\\users\\rroha\\anaconda3\\envs\\hugging_face\\lib\\site-packages (from gtts) (2.31.0)\n",
      "Requirement already satisfied: click<8.2,>=7.1 in c:\\users\\rroha\\anaconda3\\envs\\hugging_face\\lib\\site-packages (from gtts) (8.1.7)\n",
      "Requirement already satisfied: colorama in c:\\users\\rroha\\anaconda3\\envs\\hugging_face\\lib\\site-packages (from click<8.2,>=7.1->gtts) (0.4.6)\n",
      "Requirement already satisfied: charset-normalizer<4,>=2 in c:\\users\\rroha\\anaconda3\\envs\\hugging_face\\lib\\site-packages (from requests<3,>=2.27->gtts) (3.3.2)\n",
      "Requirement already satisfied: idna<4,>=2.5 in c:\\users\\rroha\\anaconda3\\envs\\hugging_face\\lib\\site-packages (from requests<3,>=2.27->gtts) (3.7)\n",
      "Requirement already satisfied: urllib3<3,>=1.21.1 in c:\\users\\rroha\\anaconda3\\envs\\hugging_face\\lib\\site-packages (from requests<3,>=2.27->gtts) (2.2.1)\n",
      "Requirement already satisfied: certifi>=2017.4.17 in c:\\users\\rroha\\anaconda3\\envs\\hugging_face\\lib\\site-packages (from requests<3,>=2.27->gtts) (2024.2.2)\n",
      "Note: you may need to restart the kernel to use updated packages.\n"
     ]
    }
   ],
   "source": [
    "pip install gtts"
   ]
  },
  {
   "cell_type": "code",
   "execution_count": 9,
   "id": "0e51d8b2-b910-491f-80cc-927252c48d06",
   "metadata": {},
   "outputs": [
    {
     "data": {
      "text/plain": [
       "0"
      ]
     },
     "execution_count": 9,
     "metadata": {},
     "output_type": "execute_result"
    }
   ],
   "source": [
    "from gtts import gTTS\n",
    "import os\n",
    "text = \"We are learning about Large Language Models\"\n",
    "tts = gTTS(text=text, lang=\"en\")\n",
    "tts.save(\"output_new.mp3\")\n",
    "os.system(\"output_new.mp3\")"
   ]
  },
  {
   "cell_type": "code",
   "execution_count": null,
   "id": "474aff63-cabc-4c9a-af09-dc21a67a5664",
   "metadata": {},
   "outputs": [],
   "source": []
  }
 ],
 "metadata": {
  "kernelspec": {
   "display_name": "Python 3 (ipykernel)",
   "language": "python",
   "name": "python3"
  },
  "language_info": {
   "codemirror_mode": {
    "name": "ipython",
    "version": 3
   },
   "file_extension": ".py",
   "mimetype": "text/x-python",
   "name": "python",
   "nbconvert_exporter": "python",
   "pygments_lexer": "ipython3",
   "version": "3.9.0"
  }
 },
 "nbformat": 4,
 "nbformat_minor": 5
}
